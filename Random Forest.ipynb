{
 "cells": [
  {
   "cell_type": "code",
   "execution_count": 49,
   "id": "bc9eceac",
   "metadata": {},
   "outputs": [],
   "source": [
    "import pandas as pd\n",
    "import numpy as np\n",
    "from sklearn.model_selection import train_test_split\n",
    "from sklearn.metrics import accuracy_score, mean_squared_error ,ConfusionMatrixDisplay\n",
    "from sklearn.ensemble import RandomForestClassifier\n",
    "from sklearn.metrics import confusion_matrix"
   ]
  },
  {
   "cell_type": "code",
   "execution_count": 50,
   "id": "83865fb5",
   "metadata": {},
   "outputs": [],
   "source": [
    "np.random.seed(0)"
   ]
  },
  {
   "cell_type": "code",
   "execution_count": 51,
   "id": "e333c68f",
   "metadata": {},
   "outputs": [],
   "source": [
    "df = pd.read_csv('train.csv')"
   ]
  },
  {
   "cell_type": "code",
   "execution_count": 52,
   "id": "46aefe63",
   "metadata": {},
   "outputs": [
    {
     "data": {
      "text/html": [
       "<div>\n",
       "<style scoped>\n",
       "    .dataframe tbody tr th:only-of-type {\n",
       "        vertical-align: middle;\n",
       "    }\n",
       "\n",
       "    .dataframe tbody tr th {\n",
       "        vertical-align: top;\n",
       "    }\n",
       "\n",
       "    .dataframe thead th {\n",
       "        text-align: right;\n",
       "    }\n",
       "</style>\n",
       "<table border=\"1\" class=\"dataframe\">\n",
       "  <thead>\n",
       "    <tr style=\"text-align: right;\">\n",
       "      <th></th>\n",
       "      <th>Header_Length</th>\n",
       "      <th>Protocol Type</th>\n",
       "      <th>Duration</th>\n",
       "      <th>Rate</th>\n",
       "      <th>Srate</th>\n",
       "      <th>Drate</th>\n",
       "      <th>fin_flag_number</th>\n",
       "      <th>syn_flag_number</th>\n",
       "      <th>rst_flag_number</th>\n",
       "      <th>psh_flag_number</th>\n",
       "      <th>...</th>\n",
       "      <th>Std</th>\n",
       "      <th>Tot size</th>\n",
       "      <th>IAT</th>\n",
       "      <th>Number</th>\n",
       "      <th>Magnitue</th>\n",
       "      <th>Radius</th>\n",
       "      <th>Covariance</th>\n",
       "      <th>Variance</th>\n",
       "      <th>Weight</th>\n",
       "      <th>Attack</th>\n",
       "    </tr>\n",
       "  </thead>\n",
       "  <tbody>\n",
       "    <tr>\n",
       "      <th>0</th>\n",
       "      <td>134.3</td>\n",
       "      <td>7.1</td>\n",
       "      <td>64.0</td>\n",
       "      <td>40415.288320</td>\n",
       "      <td>40415.288320</td>\n",
       "      <td>0</td>\n",
       "      <td>0.0</td>\n",
       "      <td>0.0</td>\n",
       "      <td>0.0</td>\n",
       "      <td>0.5</td>\n",
       "      <td>...</td>\n",
       "      <td>48.225852</td>\n",
       "      <td>95.3</td>\n",
       "      <td>1.694641e+08</td>\n",
       "      <td>5.5</td>\n",
       "      <td>15.312231</td>\n",
       "      <td>68.201654</td>\n",
       "      <td>2644.242675</td>\n",
       "      <td>0.9</td>\n",
       "      <td>38.5</td>\n",
       "      <td>0</td>\n",
       "    </tr>\n",
       "    <tr>\n",
       "      <th>1</th>\n",
       "      <td>137.0</td>\n",
       "      <td>4.7</td>\n",
       "      <td>49.9</td>\n",
       "      <td>58749.191830</td>\n",
       "      <td>58749.191830</td>\n",
       "      <td>0</td>\n",
       "      <td>0.0</td>\n",
       "      <td>0.0</td>\n",
       "      <td>0.0</td>\n",
       "      <td>0.2</td>\n",
       "      <td>...</td>\n",
       "      <td>59.753361</td>\n",
       "      <td>125.6</td>\n",
       "      <td>1.694641e+08</td>\n",
       "      <td>13.5</td>\n",
       "      <td>13.468364</td>\n",
       "      <td>84.997147</td>\n",
       "      <td>5328.483794</td>\n",
       "      <td>1.0</td>\n",
       "      <td>244.6</td>\n",
       "      <td>0</td>\n",
       "    </tr>\n",
       "    <tr>\n",
       "      <th>2</th>\n",
       "      <td>283.9</td>\n",
       "      <td>6.0</td>\n",
       "      <td>64.0</td>\n",
       "      <td>3.497439</td>\n",
       "      <td>3.497439</td>\n",
       "      <td>0</td>\n",
       "      <td>0.0</td>\n",
       "      <td>0.0</td>\n",
       "      <td>0.0</td>\n",
       "      <td>0.5</td>\n",
       "      <td>...</td>\n",
       "      <td>10.223690</td>\n",
       "      <td>80.6</td>\n",
       "      <td>8.070000e-05</td>\n",
       "      <td>5.5</td>\n",
       "      <td>12.229315</td>\n",
       "      <td>14.458481</td>\n",
       "      <td>124.725884</td>\n",
       "      <td>0.9</td>\n",
       "      <td>38.5</td>\n",
       "      <td>0</td>\n",
       "    </tr>\n",
       "    <tr>\n",
       "      <th>3</th>\n",
       "      <td>297.3</td>\n",
       "      <td>6.0</td>\n",
       "      <td>64.0</td>\n",
       "      <td>7297.703020</td>\n",
       "      <td>7297.703020</td>\n",
       "      <td>0</td>\n",
       "      <td>0.0</td>\n",
       "      <td>0.0</td>\n",
       "      <td>0.0</td>\n",
       "      <td>0.5</td>\n",
       "      <td>...</td>\n",
       "      <td>15.625023</td>\n",
       "      <td>78.5</td>\n",
       "      <td>1.694641e+08</td>\n",
       "      <td>13.5</td>\n",
       "      <td>12.552920</td>\n",
       "      <td>21.904691</td>\n",
       "      <td>240.536207</td>\n",
       "      <td>1.0</td>\n",
       "      <td>244.6</td>\n",
       "      <td>0</td>\n",
       "    </tr>\n",
       "    <tr>\n",
       "      <th>4</th>\n",
       "      <td>572.3</td>\n",
       "      <td>7.1</td>\n",
       "      <td>57.7</td>\n",
       "      <td>2.549120</td>\n",
       "      <td>2.549120</td>\n",
       "      <td>0</td>\n",
       "      <td>0.0</td>\n",
       "      <td>0.0</td>\n",
       "      <td>0.0</td>\n",
       "      <td>0.4</td>\n",
       "      <td>...</td>\n",
       "      <td>69.738867</td>\n",
       "      <td>139.0</td>\n",
       "      <td>9.993820e-02</td>\n",
       "      <td>5.5</td>\n",
       "      <td>13.928729</td>\n",
       "      <td>98.625651</td>\n",
       "      <td>11737.768850</td>\n",
       "      <td>0.9</td>\n",
       "      <td>38.5</td>\n",
       "      <td>0</td>\n",
       "    </tr>\n",
       "  </tbody>\n",
       "</table>\n",
       "<p>5 rows × 46 columns</p>\n",
       "</div>"
      ],
      "text/plain": [
       "   Header_Length  Protocol Type  Duration          Rate         Srate  Drate  \\\n",
       "0          134.3            7.1      64.0  40415.288320  40415.288320      0   \n",
       "1          137.0            4.7      49.9  58749.191830  58749.191830      0   \n",
       "2          283.9            6.0      64.0      3.497439      3.497439      0   \n",
       "3          297.3            6.0      64.0   7297.703020   7297.703020      0   \n",
       "4          572.3            7.1      57.7      2.549120      2.549120      0   \n",
       "\n",
       "   fin_flag_number  syn_flag_number  rst_flag_number  psh_flag_number  ...  \\\n",
       "0              0.0              0.0              0.0              0.5  ...   \n",
       "1              0.0              0.0              0.0              0.2  ...   \n",
       "2              0.0              0.0              0.0              0.5  ...   \n",
       "3              0.0              0.0              0.0              0.5  ...   \n",
       "4              0.0              0.0              0.0              0.4  ...   \n",
       "\n",
       "         Std  Tot size           IAT  Number   Magnitue     Radius  \\\n",
       "0  48.225852      95.3  1.694641e+08     5.5  15.312231  68.201654   \n",
       "1  59.753361     125.6  1.694641e+08    13.5  13.468364  84.997147   \n",
       "2  10.223690      80.6  8.070000e-05     5.5  12.229315  14.458481   \n",
       "3  15.625023      78.5  1.694641e+08    13.5  12.552920  21.904691   \n",
       "4  69.738867     139.0  9.993820e-02     5.5  13.928729  98.625651   \n",
       "\n",
       "     Covariance  Variance  Weight  Attack  \n",
       "0   2644.242675       0.9    38.5       0  \n",
       "1   5328.483794       1.0   244.6       0  \n",
       "2    124.725884       0.9    38.5       0  \n",
       "3    240.536207       1.0   244.6       0  \n",
       "4  11737.768850       0.9    38.5       0  \n",
       "\n",
       "[5 rows x 46 columns]"
      ]
     },
     "execution_count": 52,
     "metadata": {},
     "output_type": "execute_result"
    }
   ],
   "source": [
    "df.head()"
   ]
  },
  {
   "cell_type": "code",
   "execution_count": 53,
   "id": "58e56ff6",
   "metadata": {},
   "outputs": [],
   "source": [
    "# Separate features and target variable\n",
    "#features = df.iloc[:, :-1]  # All columns except the last\n",
    "#target = df.iloc[:, -1]\n",
    "\n",
    "# Split the data into features (X) and target (y)\n",
    "X = df.drop('Attack', axis=1)\n",
    "y = df['Attack']"
   ]
  },
  {
   "cell_type": "code",
   "execution_count": 54,
   "id": "8fe942e3",
   "metadata": {},
   "outputs": [],
   "source": [
    "X_train, X_test, y_train, y_test = train_test_split(X, y, test_size=0.2, random_state=42)"
   ]
  },
  {
   "cell_type": "code",
   "execution_count": 55,
   "id": "f4a6c22c",
   "metadata": {},
   "outputs": [
    {
     "name": "stdout",
     "output_type": "stream",
     "text": [
      "Accuracy: 0.9990451859306857\n"
     ]
    }
   ],
   "source": [
    "# Train the Random Forest model\n",
    "model = RandomForestClassifier(n_estimators=100, random_state=0)  # Adjust n_estimators as needed\n",
    "#model.fit(features, target)\n",
    "model.fit(X_train, y_train)\n",
    "y_pred = model.predict(X_test)\n",
    "accuracy = accuracy_score(y_test, y_pred)\n",
    "print(\"Accuracy:\", accuracy)"
   ]
  },
  {
   "cell_type": "code",
   "execution_count": 56,
   "id": "4c437291",
   "metadata": {},
   "outputs": [
    {
     "name": "stdout",
     "output_type": "stream",
     "text": [
      "Number of observations in the training dataset: 1019\n",
      "Number of observations in the test dataset: 192732\n"
     ]
    }
   ],
   "source": [
    "# Make predictions on new data (assuming you have a separate DataFrame for new data)\n",
    "#new_data = pd.DataFrame([[1.0, 2.5, ..., 42.3]])  # Replace with your new data\n",
    "#predictions = model.predict(new_data)\n",
    "\n",
    "train , test = df[df['Attack']==1],df[df['Attack']==0]\n",
    "\n",
    "# Show the number of observations in test and training dataframes\n",
    "\n",
    "print('Number of observations in the training dataset:', len(train))\n",
    "print('Number of observations in the test dataset:', len(test))"
   ]
  },
  {
   "cell_type": "code",
   "execution_count": 57,
   "id": "2da9afbd",
   "metadata": {},
   "outputs": [],
   "source": [
    "# Print the predictions\n",
    "#print(predictions)"
   ]
  },
  {
   "cell_type": "code",
   "execution_count": 58,
   "id": "9dd76a0f",
   "metadata": {},
   "outputs": [
    {
     "name": "stdout",
     "output_type": "stream",
     "text": [
      "Index(['Header_Length', 'Protocol Type', 'Duration', 'Rate', 'Srate', 'Drate',\n",
      "       'fin_flag_number', 'syn_flag_number', 'rst_flag_number',\n",
      "       'psh_flag_number', 'ack_flag_number', 'ece_flag_number',\n",
      "       'cwr_flag_number', 'ack_count', 'syn_count', 'fin_count', 'rst_count',\n",
      "       'HTTP', 'HTTPS', 'DNS', 'Telnet', 'SMTP', 'SSH', 'IRC', 'TCP', 'UDP',\n",
      "       'DHCP', 'ARP', 'ICMP', 'IGMP', 'IPv', 'LLC', 'Tot sum', 'Min', 'Max',\n",
      "       'AVG', 'Std', 'Tot size', 'IAT', 'Number', 'Magnitue', 'Radius',\n",
      "       'Covariance', 'Variance', 'Weight'],\n",
      "      dtype='object')\n"
     ]
    }
   ],
   "source": [
    "features = df.columns[:45]\n",
    "print(features)"
   ]
  },
  {
   "cell_type": "code",
   "execution_count": 59,
   "id": "8d431a15",
   "metadata": {},
   "outputs": [
    {
     "data": {
      "text/plain": [
       "array([0, 0, 0, ..., 0, 0, 0], dtype=int64)"
      ]
     },
     "execution_count": 59,
     "metadata": {},
     "output_type": "execute_result"
    }
   ],
   "source": [
    "#Apply the train classifier to the test\n",
    "model.predict(test[features])"
   ]
  },
  {
   "cell_type": "code",
   "execution_count": 60,
   "id": "c8418220",
   "metadata": {},
   "outputs": [
    {
     "data": {
      "text/plain": [
       "array([[0.99, 0.01],\n",
       "       [0.98, 0.02],\n",
       "       [1.  , 0.  ],\n",
       "       [1.  , 0.  ],\n",
       "       [0.99, 0.01],\n",
       "       [1.  , 0.  ],\n",
       "       [0.93, 0.07],\n",
       "       [1.  , 0.  ],\n",
       "       [0.93, 0.07],\n",
       "       [0.99, 0.01]])"
      ]
     },
     "execution_count": 60,
     "metadata": {},
     "output_type": "execute_result"
    }
   ],
   "source": [
    "#Viewing the predicted probabilities of first 10 observations\n",
    "model.predict_proba(test[features][0:10])"
   ]
  },
  {
   "cell_type": "code",
   "execution_count": 61,
   "id": "0dcf7fb2",
   "metadata": {},
   "outputs": [
    {
     "data": {
      "text/plain": [
       "0    0\n",
       "0    0\n",
       "0    0\n",
       "0    0\n",
       "0    0\n",
       "0    0\n",
       "0    0\n",
       "0    0\n",
       "0    0\n",
       "0    0\n",
       "0    0\n",
       "0    0\n",
       "0    0\n",
       "0    0\n",
       "0    0\n",
       "0    0\n",
       "0    0\n",
       "0    0\n",
       "0    0\n",
       "0    0\n",
       "0    0\n",
       "0    0\n",
       "0    0\n",
       "0    0\n",
       "0    0\n",
       "Name: Attack, dtype: int64"
      ]
     },
     "execution_count": 61,
     "metadata": {},
     "output_type": "execute_result"
    }
   ],
   "source": [
    "#Mapping values for each predicted packet features\n",
    "preds = df.Attack[model.predict(test[features])]\n",
    "#View the predicted Attack or Benign for the first 5 records\n",
    "preds[0:25]"
   ]
  },
  {
   "cell_type": "code",
   "execution_count": 62,
   "id": "0494cb35",
   "metadata": {},
   "outputs": [
    {
     "data": {
      "text/plain": [
       "0    0\n",
       "1    0\n",
       "2    0\n",
       "3    0\n",
       "4    0\n",
       "Name: Attack, dtype: int64"
      ]
     },
     "execution_count": 62,
     "metadata": {},
     "output_type": "execute_result"
    }
   ],
   "source": [
    "#Viewing the actual data for the first 5 packets\n",
    "test['Attack'].head()"
   ]
  },
  {
   "cell_type": "code",
   "execution_count": 63,
   "id": "6c89e3e1",
   "metadata": {},
   "outputs": [
    {
     "data": {
      "image/png": "[encoded data removed]",
      "text/plain": [
       "<Figure size 432x288 with 2 Axes>"
      ]
     },
     "metadata": {
      "needs_background": "light"
     },
     "output_type": "display_data"
    }
   ],
   "source": [
    "# Generate the confusion matrix\n",
    "#cm = confusion_matrix(test, preds)\n",
    "\n",
    "# Print the confusion matrix\n",
    "#print(\"Confusion Matrix:\")\n",
    "#print(cm)\n",
    "\n",
    "# Generate predictions with the best model\n",
    "y_pred = model.predict(X_test)\n",
    "\n",
    "# Create the confusion matrix\n",
    "cm = confusion_matrix(y_test, y_pred)\n",
    "\n",
    "ConfusionMatrixDisplay(confusion_matrix=cm).plot();"
   ]
  },
  {
   "cell_type": "code",
   "execution_count": null,
   "id": "f9a56368",
   "metadata": {},
   "outputs": [],
   "source": []
  }
 ],
 "metadata": {
  "kernelspec": {
   "display_name": "Python 3 (ipykernel)",
   "language": "python",
   "name": "python3"
  },
  "language_info": {
   "codemirror_mode": {
    "name": "ipython",
    "version": 3
   },
   "file_extension": ".py",
   "mimetype": "text/x-python",
   "name": "python",
   "nbconvert_exporter": "python",
   "pygments_lexer": "ipython3",
   "version": "3.9.12"
  }
 },
 "nbformat": 4,
 "nbformat_minor": 5
}
