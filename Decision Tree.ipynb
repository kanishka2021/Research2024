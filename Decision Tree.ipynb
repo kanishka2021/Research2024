{
 "cells": [
  {
   "cell_type": "code",
   "execution_count": 21,
   "id": "aa6db13a",
   "metadata": {},
   "outputs": [],
   "source": [
    "import numpy as np\n",
    "import pandas as pd\n",
    "from sklearn.model_selection import train_test_split\n",
    "from sklearn.tree import DecisionTreeClassifier\n",
    "from sklearn.metrics import accuracy_score, classification_report,confusion_matrix\n",
    "from sklearn import tree"
   ]
  },
  {
   "cell_type": "code",
   "execution_count": 22,
   "id": "9f556c7b",
   "metadata": {},
   "outputs": [],
   "source": [
    "df = pd.read_csv('train.csv')"
   ]
  },
  {
   "cell_type": "code",
   "execution_count": 23,
   "id": "38157f1f",
   "metadata": {},
   "outputs": [
    {
     "data": {
      "text/html": [
       "<div>\n",
       "<style scoped>\n",
       "    .dataframe tbody tr th:only-of-type {\n",
       "        vertical-align: middle;\n",
       "    }\n",
       "\n",
       "    .dataframe tbody tr th {\n",
       "        vertical-align: top;\n",
       "    }\n",
       "\n",
       "    .dataframe thead th {\n",
       "        text-align: right;\n",
       "    }\n",
       "</style>\n",
       "<table border=\"1\" class=\"dataframe\">\n",
       "  <thead>\n",
       "    <tr style=\"text-align: right;\">\n",
       "      <th></th>\n",
       "      <th>Header_Length</th>\n",
       "      <th>Protocol Type</th>\n",
       "      <th>Duration</th>\n",
       "      <th>Rate</th>\n",
       "      <th>Srate</th>\n",
       "      <th>Drate</th>\n",
       "      <th>fin_flag_number</th>\n",
       "      <th>syn_flag_number</th>\n",
       "      <th>rst_flag_number</th>\n",
       "      <th>psh_flag_number</th>\n",
       "      <th>...</th>\n",
       "      <th>Std</th>\n",
       "      <th>Tot size</th>\n",
       "      <th>IAT</th>\n",
       "      <th>Number</th>\n",
       "      <th>Magnitue</th>\n",
       "      <th>Radius</th>\n",
       "      <th>Covariance</th>\n",
       "      <th>Variance</th>\n",
       "      <th>Weight</th>\n",
       "      <th>Attack</th>\n",
       "    </tr>\n",
       "  </thead>\n",
       "  <tbody>\n",
       "    <tr>\n",
       "      <th>0</th>\n",
       "      <td>134.3</td>\n",
       "      <td>7.1</td>\n",
       "      <td>64.0</td>\n",
       "      <td>40415.288320</td>\n",
       "      <td>40415.288320</td>\n",
       "      <td>0</td>\n",
       "      <td>0.0</td>\n",
       "      <td>0.0</td>\n",
       "      <td>0.0</td>\n",
       "      <td>0.5</td>\n",
       "      <td>...</td>\n",
       "      <td>48.225852</td>\n",
       "      <td>95.3</td>\n",
       "      <td>1.694641e+08</td>\n",
       "      <td>5.5</td>\n",
       "      <td>15.312231</td>\n",
       "      <td>68.201654</td>\n",
       "      <td>2644.242675</td>\n",
       "      <td>0.9</td>\n",
       "      <td>38.5</td>\n",
       "      <td>0</td>\n",
       "    </tr>\n",
       "    <tr>\n",
       "      <th>1</th>\n",
       "      <td>137.0</td>\n",
       "      <td>4.7</td>\n",
       "      <td>49.9</td>\n",
       "      <td>58749.191830</td>\n",
       "      <td>58749.191830</td>\n",
       "      <td>0</td>\n",
       "      <td>0.0</td>\n",
       "      <td>0.0</td>\n",
       "      <td>0.0</td>\n",
       "      <td>0.2</td>\n",
       "      <td>...</td>\n",
       "      <td>59.753361</td>\n",
       "      <td>125.6</td>\n",
       "      <td>1.694641e+08</td>\n",
       "      <td>13.5</td>\n",
       "      <td>13.468364</td>\n",
       "      <td>84.997147</td>\n",
       "      <td>5328.483794</td>\n",
       "      <td>1.0</td>\n",
       "      <td>244.6</td>\n",
       "      <td>0</td>\n",
       "    </tr>\n",
       "    <tr>\n",
       "      <th>2</th>\n",
       "      <td>283.9</td>\n",
       "      <td>6.0</td>\n",
       "      <td>64.0</td>\n",
       "      <td>3.497439</td>\n",
       "      <td>3.497439</td>\n",
       "      <td>0</td>\n",
       "      <td>0.0</td>\n",
       "      <td>0.0</td>\n",
       "      <td>0.0</td>\n",
       "      <td>0.5</td>\n",
       "      <td>...</td>\n",
       "      <td>10.223690</td>\n",
       "      <td>80.6</td>\n",
       "      <td>8.070000e-05</td>\n",
       "      <td>5.5</td>\n",
       "      <td>12.229315</td>\n",
       "      <td>14.458481</td>\n",
       "      <td>124.725884</td>\n",
       "      <td>0.9</td>\n",
       "      <td>38.5</td>\n",
       "      <td>0</td>\n",
       "    </tr>\n",
       "    <tr>\n",
       "      <th>3</th>\n",
       "      <td>297.3</td>\n",
       "      <td>6.0</td>\n",
       "      <td>64.0</td>\n",
       "      <td>7297.703020</td>\n",
       "      <td>7297.703020</td>\n",
       "      <td>0</td>\n",
       "      <td>0.0</td>\n",
       "      <td>0.0</td>\n",
       "      <td>0.0</td>\n",
       "      <td>0.5</td>\n",
       "      <td>...</td>\n",
       "      <td>15.625023</td>\n",
       "      <td>78.5</td>\n",
       "      <td>1.694641e+08</td>\n",
       "      <td>13.5</td>\n",
       "      <td>12.552920</td>\n",
       "      <td>21.904691</td>\n",
       "      <td>240.536207</td>\n",
       "      <td>1.0</td>\n",
       "      <td>244.6</td>\n",
       "      <td>0</td>\n",
       "    </tr>\n",
       "    <tr>\n",
       "      <th>4</th>\n",
       "      <td>572.3</td>\n",
       "      <td>7.1</td>\n",
       "      <td>57.7</td>\n",
       "      <td>2.549120</td>\n",
       "      <td>2.549120</td>\n",
       "      <td>0</td>\n",
       "      <td>0.0</td>\n",
       "      <td>0.0</td>\n",
       "      <td>0.0</td>\n",
       "      <td>0.4</td>\n",
       "      <td>...</td>\n",
       "      <td>69.738867</td>\n",
       "      <td>139.0</td>\n",
       "      <td>9.993820e-02</td>\n",
       "      <td>5.5</td>\n",
       "      <td>13.928729</td>\n",
       "      <td>98.625651</td>\n",
       "      <td>11737.768850</td>\n",
       "      <td>0.9</td>\n",
       "      <td>38.5</td>\n",
       "      <td>0</td>\n",
       "    </tr>\n",
       "  </tbody>\n",
       "</table>\n",
       "<p>5 rows × 46 columns</p>\n",
       "</div>"
      ],
      "text/plain": [
       "   Header_Length  Protocol Type  Duration          Rate         Srate  Drate  \\\n",
       "0          134.3            7.1      64.0  40415.288320  40415.288320      0   \n",
       "1          137.0            4.7      49.9  58749.191830  58749.191830      0   \n",
       "2          283.9            6.0      64.0      3.497439      3.497439      0   \n",
       "3          297.3            6.0      64.0   7297.703020   7297.703020      0   \n",
       "4          572.3            7.1      57.7      2.549120      2.549120      0   \n",
       "\n",
       "   fin_flag_number  syn_flag_number  rst_flag_number  psh_flag_number  ...  \\\n",
       "0              0.0              0.0              0.0              0.5  ...   \n",
       "1              0.0              0.0              0.0              0.2  ...   \n",
       "2              0.0              0.0              0.0              0.5  ...   \n",
       "3              0.0              0.0              0.0              0.5  ...   \n",
       "4              0.0              0.0              0.0              0.4  ...   \n",
       "\n",
       "         Std  Tot size           IAT  Number   Magnitue     Radius  \\\n",
       "0  48.225852      95.3  1.694641e+08     5.5  15.312231  68.201654   \n",
       "1  59.753361     125.6  1.694641e+08    13.5  13.468364  84.997147   \n",
       "2  10.223690      80.6  8.070000e-05     5.5  12.229315  14.458481   \n",
       "3  15.625023      78.5  1.694641e+08    13.5  12.552920  21.904691   \n",
       "4  69.738867     139.0  9.993820e-02     5.5  13.928729  98.625651   \n",
       "\n",
       "     Covariance  Variance  Weight  Attack  \n",
       "0   2644.242675       0.9    38.5       0  \n",
       "1   5328.483794       1.0   244.6       0  \n",
       "2    124.725884       0.9    38.5       0  \n",
       "3    240.536207       1.0   244.6       0  \n",
       "4  11737.768850       0.9    38.5       0  \n",
       "\n",
       "[5 rows x 46 columns]"
      ]
     },
     "execution_count": 23,
     "metadata": {},
     "output_type": "execute_result"
    }
   ],
   "source": [
    "df.head()"
   ]
  },
  {
   "cell_type": "code",
   "execution_count": 24,
   "id": "3b38729f",
   "metadata": {},
   "outputs": [],
   "source": [
    "#Seperate the independent and dependent variables using the slicing method\n",
    "X = df.values[:,0:46]\n",
    "Y = df.values[:,45]"
   ]
  },
  {
   "cell_type": "code",
   "execution_count": 25,
   "id": "8bd27296",
   "metadata": {},
   "outputs": [],
   "source": [
    "# Split the data into training and testing sets\n",
    "X_train, X_test, y_train, y_test = train_test_split(X, Y, test_size=0.2, random_state=100)"
   ]
  },
  {
   "cell_type": "code",
   "execution_count": 26,
   "id": "23e07e8e",
   "metadata": {},
   "outputs": [],
   "source": [
    "# Create a decision tree classifier object\n",
    "clf = DecisionTreeClassifier(criterion=\"gini\", max_depth=3, random_state=100)"
   ]
  },
  {
   "cell_type": "code",
   "execution_count": 27,
   "id": "1482578c",
   "metadata": {},
   "outputs": [
    {
     "data": {
      "text/plain": [
       "DecisionTreeClassifier(max_depth=3, random_state=100)"
      ]
     },
     "execution_count": 27,
     "metadata": {},
     "output_type": "execute_result"
    }
   ],
   "source": [
    "# Train the model on the training data\n",
    "clf.fit(X_train, y_train)"
   ]
  },
  {
   "cell_type": "code",
   "execution_count": 28,
   "id": "d9aa2221",
   "metadata": {},
   "outputs": [],
   "source": [
    "# Make predictions on the test data\n",
    "y_pred = clf.predict(X_test)"
   ]
  },
  {
   "cell_type": "code",
   "execution_count": 29,
   "id": "a5bf5f02",
   "metadata": {},
   "outputs": [
    {
     "name": "stdout",
     "output_type": "stream",
     "text": [
      "Accuracy: 1.0\n",
      "              precision    recall  f1-score   support\n",
      "\n",
      "         0.0       1.00      1.00      1.00     38547\n",
      "         1.0       1.00      1.00      1.00       204\n",
      "\n",
      "    accuracy                           1.00     38751\n",
      "   macro avg       1.00      1.00      1.00     38751\n",
      "weighted avg       1.00      1.00      1.00     38751\n",
      "\n",
      "[[38547     0]\n",
      " [    0   204]]\n"
     ]
    }
   ],
   "source": [
    "# Evaluate the model performance (e.g., accuracy score)\n",
    "\n",
    "accuracy = accuracy_score(y_test, y_pred)\n",
    "print(\"Accuracy:\", accuracy)\n",
    "print(classification_report(y_test, y_pred))\n",
    "# Generate the confusion matrix\n",
    "confusion_matrix = confusion_matrix(y_test, y_pred)\n",
    "print(confusion_matrix)"
   ]
  },
  {
   "cell_type": "code",
   "execution_count": null,
   "id": "d367e6ba",
   "metadata": {},
   "outputs": [],
   "source": []
  },
  {
   "cell_type": "code",
   "execution_count": null,
   "id": "56007dbb",
   "metadata": {},
   "outputs": [],
   "source": []
  }
 ],
 "metadata": {
  "kernelspec": {
   "display_name": "Python 3 (ipykernel)",
   "language": "python",
   "name": "python3"
  },
  "language_info": {
   "codemirror_mode": {
    "name": "ipython",
    "version": 3
   },
   "file_extension": ".py",
   "mimetype": "text/x-python",
   "name": "python",
   "nbconvert_exporter": "python",
   "pygments_lexer": "ipython3",
   "version": "3.9.12"
  }
 },
 "nbformat": 4,
 "nbformat_minor": 5
}
